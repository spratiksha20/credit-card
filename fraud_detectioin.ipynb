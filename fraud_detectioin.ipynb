{
 "cells": [
  {
   "cell_type": "code",
   "execution_count": 5,
   "metadata": {},
   "outputs": [],
   "source": [
    "import pandas as pd"
   ]
  },
  {
   "cell_type": "code",
   "execution_count": 6,
   "metadata": {},
   "outputs": [
    {
     "data": {
      "text/html": [
       "<div>\n",
       "<style scoped>\n",
       "    .dataframe tbody tr th:only-of-type {\n",
       "        vertical-align: middle;\n",
       "    }\n",
       "\n",
       "    .dataframe tbody tr th {\n",
       "        vertical-align: top;\n",
       "    }\n",
       "\n",
       "    .dataframe thead th {\n",
       "        text-align: right;\n",
       "    }\n",
       "</style>\n",
       "<table border=\"1\" class=\"dataframe\">\n",
       "  <thead>\n",
       "    <tr style=\"text-align: right;\">\n",
       "      <th></th>\n",
       "      <th>Time</th>\n",
       "      <th>V1</th>\n",
       "      <th>V2</th>\n",
       "      <th>V3</th>\n",
       "      <th>V4</th>\n",
       "      <th>V5</th>\n",
       "      <th>V6</th>\n",
       "      <th>V7</th>\n",
       "      <th>V8</th>\n",
       "      <th>V9</th>\n",
       "      <th>...</th>\n",
       "      <th>V21</th>\n",
       "      <th>V22</th>\n",
       "      <th>V23</th>\n",
       "      <th>V24</th>\n",
       "      <th>V25</th>\n",
       "      <th>V26</th>\n",
       "      <th>V27</th>\n",
       "      <th>V28</th>\n",
       "      <th>Amount</th>\n",
       "      <th>Class</th>\n",
       "    </tr>\n",
       "  </thead>\n",
       "  <tbody>\n",
       "    <tr>\n",
       "      <td>0</td>\n",
       "      <td>136712.0</td>\n",
       "      <td>-0.359308</td>\n",
       "      <td>0.202051</td>\n",
       "      <td>1.450022</td>\n",
       "      <td>4.336258</td>\n",
       "      <td>0.939703</td>\n",
       "      <td>2.721715</td>\n",
       "      <td>-0.964710</td>\n",
       "      <td>0.894128</td>\n",
       "      <td>-1.029733</td>\n",
       "      <td>...</td>\n",
       "      <td>0.293681</td>\n",
       "      <td>0.988096</td>\n",
       "      <td>0.318780</td>\n",
       "      <td>-1.676660</td>\n",
       "      <td>-2.136351</td>\n",
       "      <td>0.160305</td>\n",
       "      <td>0.311136</td>\n",
       "      <td>0.338727</td>\n",
       "      <td>41.06</td>\n",
       "      <td>0</td>\n",
       "    </tr>\n",
       "    <tr>\n",
       "      <td>1</td>\n",
       "      <td>94006.0</td>\n",
       "      <td>0.075847</td>\n",
       "      <td>1.209608</td>\n",
       "      <td>-0.157902</td>\n",
       "      <td>-0.405879</td>\n",
       "      <td>1.277910</td>\n",
       "      <td>-0.653519</td>\n",
       "      <td>1.066578</td>\n",
       "      <td>-0.300710</td>\n",
       "      <td>0.881857</td>\n",
       "      <td>...</td>\n",
       "      <td>-0.338766</td>\n",
       "      <td>-0.604419</td>\n",
       "      <td>0.151850</td>\n",
       "      <td>0.479133</td>\n",
       "      <td>-1.168821</td>\n",
       "      <td>-0.044579</td>\n",
       "      <td>0.173504</td>\n",
       "      <td>0.262308</td>\n",
       "      <td>1.98</td>\n",
       "      <td>0</td>\n",
       "    </tr>\n",
       "    <tr>\n",
       "      <td>2</td>\n",
       "      <td>130111.0</td>\n",
       "      <td>-0.656619</td>\n",
       "      <td>0.395337</td>\n",
       "      <td>-0.288348</td>\n",
       "      <td>-1.325402</td>\n",
       "      <td>2.028209</td>\n",
       "      <td>4.090790</td>\n",
       "      <td>-0.744053</td>\n",
       "      <td>1.573678</td>\n",
       "      <td>0.206402</td>\n",
       "      <td>...</td>\n",
       "      <td>0.391698</td>\n",
       "      <td>1.050449</td>\n",
       "      <td>-0.167973</td>\n",
       "      <td>0.741426</td>\n",
       "      <td>-0.221583</td>\n",
       "      <td>-0.101159</td>\n",
       "      <td>0.103797</td>\n",
       "      <td>0.096762</td>\n",
       "      <td>15.94</td>\n",
       "      <td>0</td>\n",
       "    </tr>\n",
       "    <tr>\n",
       "      <td>3</td>\n",
       "      <td>13389.0</td>\n",
       "      <td>-0.075616</td>\n",
       "      <td>2.417026</td>\n",
       "      <td>-3.038112</td>\n",
       "      <td>1.415881</td>\n",
       "      <td>1.353048</td>\n",
       "      <td>-0.363680</td>\n",
       "      <td>-0.017627</td>\n",
       "      <td>0.823582</td>\n",
       "      <td>0.484086</td>\n",
       "      <td>...</td>\n",
       "      <td>-0.242818</td>\n",
       "      <td>-0.345549</td>\n",
       "      <td>0.050256</td>\n",
       "      <td>-1.730479</td>\n",
       "      <td>-0.275293</td>\n",
       "      <td>-0.336730</td>\n",
       "      <td>0.102005</td>\n",
       "      <td>-0.081776</td>\n",
       "      <td>0.89</td>\n",
       "      <td>0</td>\n",
       "    </tr>\n",
       "    <tr>\n",
       "      <td>4</td>\n",
       "      <td>57149.0</td>\n",
       "      <td>-1.408328</td>\n",
       "      <td>1.570935</td>\n",
       "      <td>1.604217</td>\n",
       "      <td>0.971720</td>\n",
       "      <td>-0.969752</td>\n",
       "      <td>-0.798742</td>\n",
       "      <td>-0.241997</td>\n",
       "      <td>0.827837</td>\n",
       "      <td>-0.819706</td>\n",
       "      <td>...</td>\n",
       "      <td>-0.022582</td>\n",
       "      <td>-0.449660</td>\n",
       "      <td>-0.047503</td>\n",
       "      <td>0.663448</td>\n",
       "      <td>0.083628</td>\n",
       "      <td>-0.516456</td>\n",
       "      <td>-0.277601</td>\n",
       "      <td>-0.060505</td>\n",
       "      <td>5.00</td>\n",
       "      <td>0</td>\n",
       "    </tr>\n",
       "  </tbody>\n",
       "</table>\n",
       "<p>5 rows × 31 columns</p>\n",
       "</div>"
      ],
      "text/plain": [
       "       Time        V1        V2        V3        V4        V5        V6  \\\n",
       "0  136712.0 -0.359308  0.202051  1.450022  4.336258  0.939703  2.721715   \n",
       "1   94006.0  0.075847  1.209608 -0.157902 -0.405879  1.277910 -0.653519   \n",
       "2  130111.0 -0.656619  0.395337 -0.288348 -1.325402  2.028209  4.090790   \n",
       "3   13389.0 -0.075616  2.417026 -3.038112  1.415881  1.353048 -0.363680   \n",
       "4   57149.0 -1.408328  1.570935  1.604217  0.971720 -0.969752 -0.798742   \n",
       "\n",
       "         V7        V8        V9  ...       V21       V22       V23       V24  \\\n",
       "0 -0.964710  0.894128 -1.029733  ...  0.293681  0.988096  0.318780 -1.676660   \n",
       "1  1.066578 -0.300710  0.881857  ... -0.338766 -0.604419  0.151850  0.479133   \n",
       "2 -0.744053  1.573678  0.206402  ...  0.391698  1.050449 -0.167973  0.741426   \n",
       "3 -0.017627  0.823582  0.484086  ... -0.242818 -0.345549  0.050256 -1.730479   \n",
       "4 -0.241997  0.827837 -0.819706  ... -0.022582 -0.449660 -0.047503  0.663448   \n",
       "\n",
       "        V25       V26       V27       V28  Amount  Class  \n",
       "0 -2.136351  0.160305  0.311136  0.338727   41.06      0  \n",
       "1 -1.168821 -0.044579  0.173504  0.262308    1.98      0  \n",
       "2 -0.221583 -0.101159  0.103797  0.096762   15.94      0  \n",
       "3 -0.275293 -0.336730  0.102005 -0.081776    0.89      0  \n",
       "4  0.083628 -0.516456 -0.277601 -0.060505    5.00      0  \n",
       "\n",
       "[5 rows x 31 columns]"
      ]
     },
     "execution_count": 6,
     "metadata": {},
     "output_type": "execute_result"
    }
   ],
   "source": [
    "df = pd.read_csv('creditcard.csv')\n",
    "df = df.sample(frac=1).reset_index(drop='True')\n",
    "df.head()"
   ]
  },
  {
   "cell_type": "code",
   "execution_count": 7,
   "metadata": {},
   "outputs": [
    {
     "name": "stdout",
     "output_type": "stream",
     "text": [
      "492\n",
      "284315\n"
     ]
    }
   ],
   "source": [
    "fraud = df.loc[df['Class']==1]\n",
    "nonfraud = df.loc[df['Class']==0]\n",
    "print(len(fraud))\n",
    "print(len(nonfraud))"
   ]
  },
  {
   "cell_type": "code",
   "execution_count": 9,
   "metadata": {},
   "outputs": [
    {
     "data": {
      "image/png": "[encoded data removed]",
      "text/plain": [
       "<Figure size 432x288 with 1 Axes>"
      ]
     },
     "metadata": {},
     "output_type": "display_data"
    }
   ],
   "source": [
    "import matplotlib.pyplot as plt\n",
    "sizes = [len(fraud),len(nonfraud)]\n",
    "explode = (0.1,0)\n",
    "labels = ['Fraud','Nonfraud']\n",
    "colors = ['#ff0000','#a4f21f']\n",
    "fig1, ax1 = plt.subplots()\n",
    "ax1.pie(sizes, explode=explode, labels=labels,colors=colors, autopct='%1.1f%%',\n",
    "        shadow=True, startangle=90)\n",
    "# Equal aspect ratio ensures that pie is drawn as a circle\n",
    "ax1.axis('equal')  \n",
    "plt.tight_layout()\n",
    "plt.show()"
   ]
  },
  {
   "cell_type": "markdown",
   "metadata": {},
   "source": [
    "Time for machine learning"
   ]
  },
  {
   "cell_type": "code",
   "execution_count": 10,
   "metadata": {},
   "outputs": [],
   "source": [
    "from sklearn import linear_model\n",
    "from sklearn.model_selection import train_test_split\n"
   ]
  },
  {
   "cell_type": "code",
   "execution_count": 38,
   "metadata": {},
   "outputs": [],
   "source": [
    "x = df.iloc[:,:-1]\n",
    "y = df['Class']\n",
    "X_train,X_test,y_train,y_test = train_test_split(x,y,test_size = 0.45)"
   ]
  },
  {
   "cell_type": "code",
   "execution_count": 39,
   "metadata": {},
   "outputs": [
    {
     "name": "stderr",
     "output_type": "stream",
     "text": [
      "/home/sayan/snap/jupyter/common/lib/python3.7/site-packages/sklearn/linear_model/logistic.py:432: FutureWarning: Default solver will be changed to 'lbfgs' in 0.22. Specify a solver to silence this warning.\n",
      "  FutureWarning)\n"
     ]
    },
    {
     "name": "stdout",
     "output_type": "stream",
     "text": [
      "Score:  0.9989310570831123\n"
     ]
    }
   ],
   "source": [
    "logistic = linear_model.LogisticRegression(C=1e5)\n",
    "logistic.fit(X_train,y_train)\n",
    "print('Score: ',logistic.score(X_test,y_test))"
   ]
  },
  {
   "cell_type": "code",
   "execution_count": 29,
   "metadata": {},
   "outputs": [
    {
     "name": "stdout",
     "output_type": "stream",
     "text": [
      "[0 0 0 ... 0 0 0]\n"
     ]
    }
   ],
   "source": [
    "import numpy as np\n",
    "y_predicted = np.array(logistic.predict(X_test))\n",
    "print(y_predicted)"
   ]
  },
  {
   "cell_type": "code",
   "execution_count": 30,
   "metadata": {},
   "outputs": [],
   "source": []
  },
  {
   "cell_type": "code",
   "execution_count": 31,
   "metadata": {},
   "outputs": [],
   "source": []
  },
  {
   "cell_type": "code",
   "execution_count": null,
   "metadata": {},
   "outputs": [],
   "source": []
  },
  {
   "cell_type": "code",
   "execution_count": null,
   "metadata": {},
   "outputs": [],
   "source": []
  }
 ],
 "metadata": {
  "kernelspec": {
   "display_name": "Python 3",
   "language": "python",
   "name": "python3"
  },
  "language_info": {
   "codemirror_mode": {
    "name": "ipython",
    "version": 3
   },
   "file_extension": ".py",
   "mimetype": "text/x-python",
   "name": "python",
   "nbconvert_exporter": "python",
   "pygments_lexer": "ipython3",
   "version": "3.7.3"
  }
 },
 "nbformat": 4,
 "nbformat_minor": 2
}
